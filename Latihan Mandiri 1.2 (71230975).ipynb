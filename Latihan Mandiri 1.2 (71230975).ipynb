{
 "cells": [
  {
   "cell_type": "code",
   "execution_count": 1,
   "id": "f3041ca4",
   "metadata": {},
   "outputs": [
    {
     "name": "stdout",
     "output_type": "stream",
     "text": [
      "Keuntungan Rp 875000\n",
      "Persentase keuntungan: 5.11%\n",
      "Jadi keuntungan yang didapat adalah Rp 875000 dan Presentase keuntungan adalah 5.11%\n",
      "Keuntungan Rp 2075000\n",
      "Persentase keuntungan: 7.26%\n",
      "Jadi keuntungan yang didapat adalah Rp 2075000 dan Presentase keuntungan adalah 7.26%\n"
     ]
    }
   ],
   "source": [
    "#Keterangan untuk menghitung keuntungan pertama\n",
    "emas1 = 25\n",
    "harga1 = 650000\n",
    "harganaik1 = 685000\n",
    "\n",
    "#Rumus mencari keuntungan 1\n",
    "totalhargaemas1 = emas1 * harga1\n",
    "totalharganaik1 = emas1 * harganaik1\n",
    "keuntungan = totalharganaik1 - totalhargaemas1\n",
    "Persen = (keuntungan / totalharganaik1) * 100\n",
    "\n",
    "#output\n",
    "print(\"Keuntungan Rp\", keuntungan)\n",
    "print(\"Persentase keuntungan: {:.2f}%\".format(Persen))\n",
    "\n",
    "#Jawaban 1 \n",
    "print(\"Jadi keuntungan yang didapat adalah Rp\", keuntungan, \"dan Presentase keuntungan adalah {:.2f}%\".format(Persen))\n",
    "\n",
    "#Keterangan untuk menghitung keuntungan kedua\n",
    "emas2 = 15\n",
    "harga2 = 685000\n",
    "harganaik2 = 715000\n",
    "totalsemuaemas = 40\n",
    "\n",
    "#Rumus mencari keuntungan 2\n",
    "totalhargaemas2 = emas2 * harga2\n",
    "totalharganaik2 = harganaik2 * totalsemuaemas\n",
    "totalemas = totalhargaemas1 + totalhargaemas2\n",
    "keuntungan2 = totalharganaik2 - totalemas\n",
    "persen2 = (keuntungan2 / totalharganaik2 ) * 100\n",
    "\n",
    "#output\n",
    "print(\"Keuntungan Rp\", keuntungan2)\n",
    "print(\"Persentase keuntungan: {:.2f}%\".format(persen2))\n",
    "\n",
    "#Jawaban 2 \n",
    "print(\"Jadi keuntungan yang didapat adalah Rp\", keuntungan2, \"dan Presentase keuntungan adalah {:.2f}%\".format(persen2))"
   ]
  },
  {
   "cell_type": "code",
   "execution_count": null,
   "id": "5686e7d5",
   "metadata": {},
   "outputs": [],
   "source": []
  }
 ],
 "metadata": {
  "kernelspec": {
   "display_name": "Python 3 (ipykernel)",
   "language": "python",
   "name": "python3"
  },
  "language_info": {
   "codemirror_mode": {
    "name": "ipython",
    "version": 3
   },
   "file_extension": ".py",
   "mimetype": "text/x-python",
   "name": "python",
   "nbconvert_exporter": "python",
   "pygments_lexer": "ipython3",
   "version": "3.11.5"
  }
 },
 "nbformat": 4,
 "nbformat_minor": 5
}
